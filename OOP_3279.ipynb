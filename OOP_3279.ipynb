{
  "cells": [
    {
      "cell_type": "markdown",
      "metadata": {
        "id": "view-in-github",
        "colab_type": "text"
      },
      "source": [
        "<a href=\"https://colab.research.google.com/github/piphattramarkn-cloud/CVE100/blob/main/OOP_3279.ipynb\" target=\"_parent\"><img src=\"https://colab.research.google.com/assets/colab-badge.svg\" alt=\"Open In Colab\"/></a>"
      ]
    },
    {
      "cell_type": "code",
      "execution_count": null,
      "id": "b66e8a44",
      "metadata": {
        "id": "b66e8a44",
        "outputId": "9827ff9b-5801-4369-86e4-b139fc0dbecb"
      },
      "outputs": [
        {
          "name": "stdout",
          "output_type": "stream",
          "text": [
            "Car renteed. Total Cost =  25000\n",
            "model Audy\n",
            "rent_per_day 5000\n",
            "available False\n",
            "Car returned\n"
          ]
        }
      ],
      "source": [
        "class Car:\n",
        "    def __init__(self, model, rent_per_day, available):\n",
        "        self.model = model\n",
        "        self.rent_per_day = rent_per_day\n",
        "        self.available = True\n",
        "    def rent(self, days):\n",
        "        if self.available:\n",
        "            total_cost = self.rent_per_day * days\n",
        "            print (\"Car renteed. Total Cost = \", total_cost)\n",
        "            self.available = False\n",
        "        else:\n",
        "            print(\"Car is not available to rent\")\n",
        "    def return_car(self):\n",
        "        self.available = True\n",
        "        print (\"Car returned\")\n",
        "    def display(self):\n",
        "        print (\"model\",self.model )\n",
        "        print (\"rent_per_day\",self.rent_per_day)\n",
        "        print (\"available\", self.available)\n",
        "car1 = Car('Audy', 5000, True)\n",
        "car1.rent(5)\n",
        "car1.display()\n",
        "car1.return_car()"
      ]
    },
    {
      "cell_type": "code",
      "execution_count": 1,
      "id": "a94fb6d8",
      "metadata": {
        "colab": {
          "base_uri": "https://localhost:8080/"
        },
        "id": "a94fb6d8",
        "outputId": "c1bb427f-451a-4bbe-a1bf-2fa7c77d253c"
      },
      "outputs": [
        {
          "output_type": "stream",
          "name": "stdout",
          "text": [
            "Name: Alice, Age: 20\n",
            "Added Math = 85\n",
            "Added Science = 90\n",
            "Math: 85\n",
            "Science: 90\n",
            "Average Score: <bound method Student.average of <__main__.Student object at 0x78fe1cd84a40>>\n"
          ]
        }
      ],
      "source": [
        "#Step1: Parent Class - Person\n",
        "class Person:\n",
        "    def __init__(self, name, age):\n",
        "        self.name = name\n",
        "        self.age = age\n",
        "\n",
        "    def display_info(self):\n",
        "        print(f\"Name: {self.name}, Age: {self.age}\")\n",
        "\n",
        "\n",
        "#Step2: Child Class - Student\n",
        "class Student(Person):\n",
        "    def __init__(self, name, age):\n",
        "        super().__init__(name, age)\n",
        "        self.marks = {}\n",
        "\n",
        "    def add_mark(self, subject, score):\n",
        "        if subject not in self.marks:\n",
        "            self.marks[subject] = score\n",
        "            print(f\"Added {subject} = {score}\")\n",
        "        else:\n",
        "            self.marks[subject] = score\n",
        "            print(f\"Updated {subject} = {score}\")\n",
        "\n",
        "    def display_marks(self):\n",
        "        if not self.marks:\n",
        "            print(\"No marks available\")\n",
        "        else:\n",
        "            for subject, score in self.marks.items():\n",
        "                print(f\"{subject}: {score}\")\n",
        "\n",
        "    def average(self):\n",
        "        if not self.marks:\n",
        "            return 0\n",
        "        return sum(self.marks.values()) / len(self.marks)\n",
        "\n",
        "\n",
        "#Step3: Main Program\n",
        "student1 = Student(\"Alice\", 20)   # 1. Create student\n",
        "student1.display_info()           # 2. Display info\n",
        "\n",
        "student1.add_mark(\"Math\", 85)     # 3. Add subject marks\n",
        "student1.add_mark(\"Science\", 90)\n",
        "\n",
        "student1.display_marks()          # 4. Display all marks\n",
        "\n",
        "print(\"Average Score:\", student1.average)"
      ]
    }
  ],
  "metadata": {
    "kernelspec": {
      "display_name": "Python 3",
      "language": "python",
      "name": "python3"
    },
    "language_info": {
      "codemirror_mode": {
        "name": "ipython",
        "version": 3
      },
      "file_extension": ".py",
      "mimetype": "text/x-python",
      "name": "python",
      "nbconvert_exporter": "python",
      "pygments_lexer": "ipython3",
      "version": "3.12.6"
    },
    "colab": {
      "provenance": [],
      "include_colab_link": true
    }
  },
  "nbformat": 4,
  "nbformat_minor": 5
}