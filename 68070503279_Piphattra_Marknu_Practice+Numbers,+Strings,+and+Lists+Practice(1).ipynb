{
  "cells": [
    {
      "cell_type": "markdown",
      "metadata": {
        "id": "view-in-github",
        "colab_type": "text"
      },
      "source": [
        "<a href=\"https://colab.research.google.com/github/piphattramarkn-cloud/CVE100/blob/main/68070503279_Piphattra_Marknu_Practice%2BNumbers%2C%2BStrings%2C%2Band%2BLists%2BPractice(1).ipynb\" target=\"_parent\"><img src=\"https://colab.research.google.com/assets/colab-badge.svg\" alt=\"Open In Colab\"/></a>"
      ]
    },
    {
      "cell_type": "markdown",
      "metadata": {
        "id": "CleYcpQAbY2A"
      },
      "source": [
        "#  Numbers"
      ]
    },
    {
      "cell_type": "markdown",
      "metadata": {
        "id": "HsYezzYobY2C"
      },
      "source": [
        "Compute the number of bytes in one Gigabyte (1kb = 1024 bytes, 1mb = 1024 kb, 1gb = 1024 mb)"
      ]
    },
    {
      "cell_type": "code",
      "execution_count": null,
      "metadata": {
        "colab": {
          "base_uri": "https://localhost:8080/"
        },
        "id": "w3ggVPeAbY2C",
        "outputId": "25c69a61-655e-4df6-e0fd-601ab1b3f632"
      },
      "outputs": [
        {
          "output_type": "stream",
          "name": "stdout",
          "text": [
            "1073741824\n"
          ]
        }
      ],
      "source": [
        "#Write your code here\n",
        "total_bytes=1024*1024*1024\n",
        "print(total_bytes)\n",
        "\n"
      ]
    },
    {
      "cell_type": "markdown",
      "metadata": {
        "id": "C6zJaIC6bY2D"
      },
      "source": [
        "You bought 500 shares of stock A at $\\$$600 on day 0 and you sold it at  $\\$$1000 on day 700.\n",
        "The daily discount rate is 0.0001%. How much profit did you make in terms of net present value.\n"
      ]
    },
    {
      "cell_type": "code",
      "execution_count": 3,
      "metadata": {
        "id": "EnDH_dCJbY2D",
        "colab": {
          "base_uri": "https://localhost:8080/"
        },
        "outputId": "fa556a9b-2fb4-4620-bcfb-8f84021a1e14"
      },
      "outputs": [
        {
          "output_type": "stream",
          "name": "stdout",
          "text": [
            "199860.04905853115\n"
          ]
        }
      ],
      "source": [
        "#Write your code here\n",
        "shares=500\n",
        "buy_price=600\n",
        "sell_price=1000\n",
        "days=700\n",
        "discount_rate=0.0001/100\n",
        "profit=sell_price*shares-buy_price*shares\n",
        "npv=profit/(1+discount_rate)**days\n",
        "print(npv)\n"
      ]
    },
    {
      "cell_type": "markdown",
      "metadata": {
        "id": "6NjVzl-SbY2D"
      },
      "source": [
        "For any value of x, create a variable called even_check that is True if x is even and False if x is odd."
      ]
    },
    {
      "cell_type": "code",
      "execution_count": 25,
      "metadata": {
        "run_control": {
          "marked": true
        },
        "id": "n7TL2a0xbY2D",
        "colab": {
          "base_uri": "https://localhost:8080/"
        },
        "outputId": "19c523ea-07c1-4c3c-882c-b4dfb8cf6fdb"
      },
      "outputs": [
        {
          "output_type": "execute_result",
          "data": {
            "text/plain": [
              "False"
            ]
          },
          "metadata": {},
          "execution_count": 25
        }
      ],
      "source": [
        "#Write your code here\n",
        "X=89\n",
        "even_check=X%2==0\n",
        "even_check"
      ]
    },
    {
      "cell_type": "markdown",
      "metadata": {
        "id": "vC1llhl5bY2D"
      },
      "source": [
        "You have num_shirts t-shirts, num_shorts pairs of shorts and num_shoes pairs of shoes.  Create a variable called num_outfits that stores the total number of different outfits you can make."
      ]
    },
    {
      "cell_type": "code",
      "execution_count": 21,
      "metadata": {
        "id": "hIx6VoqAbY2D",
        "colab": {
          "base_uri": "https://localhost:8080/"
        },
        "outputId": "29f84b50-d5e4-4cf8-aeef-a4c28524e626"
      },
      "outputs": [
        {
          "output_type": "execute_result",
          "data": {
            "text/plain": [
              "315"
            ]
          },
          "metadata": {},
          "execution_count": 21
        }
      ],
      "source": [
        "from __future__ import print_function\n",
        "#Write your code here\n",
        "num_shirts=5\n",
        "num_shorts=9\n",
        "num_shoes=7\n",
        "num_outfits=num_shirts*num_shorts*num_shoes\n",
        "num_outfits\n"
      ]
    },
    {
      "cell_type": "markdown",
      "metadata": {
        "id": "22V0hU1sbY2D"
      },
      "source": [
        "# String Practice\n",
        "\n",
        "Create variable called \"name\" that stores your full name. Find whether your name has an even or odd number of letters."
      ]
    },
    {
      "cell_type": "code",
      "execution_count": 26,
      "metadata": {
        "id": "PYhD5NnWbY2E",
        "colab": {
          "base_uri": "https://localhost:8080/"
        },
        "outputId": "53301384-cda1-4836-b2f1-269c3bf4c34a"
      },
      "outputs": [
        {
          "output_type": "stream",
          "name": "stdout",
          "text": [
            "Even\n"
          ]
        }
      ],
      "source": [
        "#Write your code here\n",
        "name=\"Piphattra Marknu\"\n",
        "print(\"Even\" if len(name.replace(\" \",\" \"))%2==0 else \"Odd\")"
      ]
    },
    {
      "cell_type": "markdown",
      "metadata": {
        "id": "BcQjn2NJbY2E"
      },
      "source": [
        "Correct the following variable so it is equal to \"spammy\""
      ]
    },
    {
      "cell_type": "code",
      "execution_count": 14,
      "metadata": {
        "id": "svv6MNBabY2E",
        "colab": {
          "base_uri": "https://localhost:8080/",
          "height": 35
        },
        "outputId": "3c876078-123e-40d1-ecd3-6780294887cf"
      },
      "outputs": [
        {
          "output_type": "execute_result",
          "data": {
            "text/plain": [
              "'spammy'"
            ],
            "application/vnd.google.colaboratory.intrinsic+json": {
              "type": "string"
            }
          },
          "metadata": {},
          "execution_count": 14
        }
      ],
      "source": [
        "#Write your code here\n",
        "s = \"spaxxy\"\n",
        "S=s.replace('x','m')\n",
        "S\n"
      ]
    },
    {
      "cell_type": "markdown",
      "metadata": {
        "id": "XQWbsQrMbY2E"
      },
      "source": [
        "Figure out a way to slice and combine the strings s1, s2, and s3 so that the variable consec_ints = \"123456789\"."
      ]
    },
    {
      "cell_type": "code",
      "execution_count": 6,
      "metadata": {
        "id": "QXn034S6bY2E",
        "colab": {
          "base_uri": "https://localhost:8080/",
          "height": 35
        },
        "outputId": "cf0eacf8-2ab0-4608-cb76-4482d80b390e"
      },
      "outputs": [
        {
          "output_type": "execute_result",
          "data": {
            "text/plain": [
              "'123456789'"
            ],
            "application/vnd.google.colaboratory.intrinsic+json": {
              "type": "string"
            }
          },
          "metadata": {},
          "execution_count": 6
        }
      ],
      "source": [
        "s1 = \"12345\"\n",
        "s2 = \"34567\"\n",
        "s3 = \"789\"\n",
        "\n",
        "#Write your code here\n",
        "s=s1+s2[3]+s3\n",
        "s"
      ]
    },
    {
      "cell_type": "markdown",
      "metadata": {
        "id": "nN_Js_drbY2E"
      },
      "source": [
        "#  List Practice\n",
        "\n"
      ]
    },
    {
      "cell_type": "markdown",
      "metadata": {
        "id": "lKdIiA-KbY2E"
      },
      "source": [
        "Add the first and last elements of the list L. Store the result in a variable called sum_first_last. Your code should work if I change L."
      ]
    },
    {
      "cell_type": "code",
      "execution_count": 8,
      "metadata": {
        "id": "RvJHX1LNbY2E",
        "colab": {
          "base_uri": "https://localhost:8080/"
        },
        "outputId": "89fed143-f0d4-4c88-8f31-5c00c8c4efa9"
      },
      "outputs": [
        {
          "output_type": "execute_result",
          "data": {
            "text/plain": [
              "72"
            ]
          },
          "metadata": {},
          "execution_count": 8
        }
      ],
      "source": [
        "L = [5,1,43,2,4,56,7,90, 67]\n",
        "\n",
        "#Write your code here\n",
        "sum_first_last=L[0]+L[-1]\n",
        "sum_first_last"
      ]
    },
    {
      "cell_type": "markdown",
      "metadata": {
        "id": "TbALICmObY2E"
      },
      "source": [
        "Slice and combine the elements of the list L in a way to print out \"spam\"."
      ]
    },
    {
      "cell_type": "code",
      "execution_count": 10,
      "metadata": {
        "id": "2jC2MSFabY2E",
        "colab": {
          "base_uri": "https://localhost:8080/",
          "height": 35
        },
        "outputId": "104411f5-e2ba-48a1-a399-62ca31918ef5"
      },
      "outputs": [
        {
          "output_type": "execute_result",
          "data": {
            "text/plain": [
              "'spam'"
            ],
            "application/vnd.google.colaboratory.intrinsic+json": {
              "type": "string"
            }
          },
          "metadata": {},
          "execution_count": 10
        }
      ],
      "source": [
        "L = [1,\"s\", 2, 3, \"p\", \"a\", 34,1,\"m\"]\n",
        "\n",
        "\n",
        "#Write your code here\n",
        "\n",
        "A=L[1]+L[4]+L[5]+L[-1]\n",
        "A"
      ]
    },
    {
      "cell_type": "markdown",
      "metadata": {
        "id": "hL0aGJu-bY2E"
      },
      "source": [
        "Create a variable called num_L which store the number represented by the list of strings in L.  For the example num_L should be 145. You may assume 3 digit numbers."
      ]
    },
    {
      "cell_type": "code",
      "execution_count": 11,
      "metadata": {
        "id": "p4e8ziaBbY2E",
        "colab": {
          "base_uri": "https://localhost:8080/",
          "height": 35
        },
        "outputId": "fd656d1f-26dc-4a7b-90ed-a3ac275cb9bc"
      },
      "outputs": [
        {
          "output_type": "execute_result",
          "data": {
            "text/plain": [
              "'145'"
            ],
            "application/vnd.google.colaboratory.intrinsic+json": {
              "type": "string"
            }
          },
          "metadata": {},
          "execution_count": 11
        }
      ],
      "source": [
        "L = [\"1\",\"4\",\"5\" ]\n",
        "\n",
        "#Write you code here\n",
        "num_L=L[0]+L[1]+L[2]\n",
        "num_L"
      ]
    },
    {
      "cell_type": "markdown",
      "metadata": {
        "id": "AkgiuDo_bY2E"
      },
      "source": [
        "Create a list L of numbers of odd length.  Complete the following tasks:\n",
        "\n",
        " - Find the median element\n",
        " - Slice out all element indexed lower than the median element"
      ]
    },
    {
      "cell_type": "code",
      "execution_count": 12,
      "metadata": {
        "id": "yHEmWSYabY2F",
        "colab": {
          "base_uri": "https://localhost:8080/"
        },
        "outputId": "94e4da46-e31f-4a7d-bba8-7173e68d9894"
      },
      "outputs": [
        {
          "output_type": "stream",
          "name": "stdout",
          "text": [
            "[2, 3, 4]\n"
          ]
        }
      ],
      "source": [
        "L= [4,5,3,2,6,6,9]\n",
        "\n",
        "#Write your code here\n",
        "A=sorted(L)\n",
        "median_position=int(len(L)/2)\n",
        "print(A[0:median_position])"
      ]
    }
  ],
  "metadata": {
    "kernelspec": {
      "display_name": "Python 3",
      "language": "python",
      "name": "python3"
    },
    "language_info": {
      "codemirror_mode": {
        "name": "ipython",
        "version": 3
      },
      "file_extension": ".py",
      "mimetype": "text/x-python",
      "name": "python",
      "nbconvert_exporter": "python",
      "pygments_lexer": "ipython3",
      "version": "3.6.0"
    },
    "toc": {
      "colors": {
        "hover_highlight": "#DAA520",
        "navigate_num": "#000000",
        "navigate_text": "#333333",
        "running_highlight": "#FF0000",
        "selected_highlight": "#FFD700",
        "sidebar_border": "#EEEEEE",
        "wrapper_background": "#FFFFFF"
      },
      "moveMenuLeft": true,
      "nav_menu": {
        "height": "12px",
        "width": "252px"
      },
      "navigate_menu": true,
      "number_sections": true,
      "sideBar": true,
      "skip_h1_title": false,
      "threshold": 4,
      "toc_cell": false,
      "toc_position": {},
      "toc_section_display": "block",
      "toc_window_display": false,
      "widenNotebook": false
    },
    "colab": {
      "provenance": [],
      "include_colab_link": true
    }
  },
  "nbformat": 4,
  "nbformat_minor": 0
}