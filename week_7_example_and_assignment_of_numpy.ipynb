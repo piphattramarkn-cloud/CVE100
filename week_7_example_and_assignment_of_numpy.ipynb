{
 "cells": [
  {
   "cell_type": "markdown",
   "metadata": {
    "id": "RoQjeM-utYJ-"
   },
   "source": [
    "Import Car class from car.py\n",
    "\n",
    "define car1 with Car('Toyota',1000)\n",
    "\n",
    "run the method like display(), rent(), return_car()"
   ]
  },
  {
   "cell_type": "code",
   "execution_count": 4,
   "metadata": {
    "id": "REl1jgxOu9Mi"
   },
   "outputs": [
    {
     "name": "stdout",
     "output_type": "stream",
     "text": [
      "Model: Toyota\n",
      "Rent per day: ฿1000\n",
      "Availability: Available\n",
      "Car rented. Total cost = ฿1000\n",
      "Car returned\n"
     ]
    }
   ],
   "source": [
    "from car import Car\n",
    "car1 = Car('Toyota',1000)\n",
    "car1.display()\n",
    "car1.rent(1)\n",
    "car1.return_car()"
   ]
  },
  {
   "cell_type": "markdown",
   "metadata": {
    "id": "nvtQU52Kh2-P"
   },
   "source": [
    "Example 1 – Function: Compute Average Load on a Beam\n",
    "Write a Python function average_load(loads) that receives a NumPy array of loads (kN) on different sections of a beam and returns the average load.\n",
    "\n",
    "[12.5, 13.0, 12.0, 11.5, 12.8]"
   ]
  },
  {
   "cell_type": "code",
   "execution_count": 5,
   "metadata": {
    "id": "05gzTY5FiACc"
   },
   "outputs": [],
   "source": [
    "import numpy as np\n",
    "\n",
    "def average_load(loads):\n",
    "\n",
    "  pass\n",
    "\n",
    "beam_loads = np.array([12.5, 13.0, 12.0, 11.5, 12.8])\n",
    "\n",
    "\n",
    "\n"
   ]
  },
  {
   "cell_type": "markdown",
   "metadata": {
    "id": "aFUa3zvkif6E"
   },
   "source": [
    "Example 2 – Function: Create a Diagonal Stiffness Matrix\n",
    "\n",
    "Question:\n",
    "Write a function stiffness_matrix(values) that takes a 1D NumPy array of stiffness values and returns a diagonal matrix with those values on the diagonal."
   ]
  },
  {
   "cell_type": "code",
   "execution_count": null,
   "metadata": {
    "id": "Bsc1PbkaihM2"
   },
   "outputs": [],
   "source": [
    "import numpy as np\n",
    "\n",
    "def stiffness_matrix(values):\n",
    "\n",
    "  pass\n",
    "\n",
    "stiffness_values = np.array([10, 20, 30])"
   ]
  },
  {
   "cell_type": "markdown",
   "metadata": {
    "id": "ik1wvH1aixvM"
   },
   "source": [
    "Example 3 – Class: ConcreteStrength\n",
    "\n",
    "Question:\n",
    "Create a class ConcreteStrength to store compressive strength test data.\n",
    "\n",
    "The class should have:\n",
    "\n",
    "an attribute samples (NumPy array of strengths)\n",
    "\n",
    "a method mean_strength() returning the mean\n",
    "\n",
    "a method std_strength() returning the standard deviation"
   ]
  },
  {
   "cell_type": "code",
   "execution_count": null,
   "metadata": {
    "id": "sOeiEdM-iw8Y"
   },
   "outputs": [],
   "source": [
    "import numpy as np\n",
    "\n",
    "class ConcreteStrength:\n",
    "  def __init__(self, samples):\n",
    "\n",
    "    pass\n",
    "\n",
    "  def mean_strength(self):\n",
    "\n",
    "    pass\n",
    "\n",
    "  def std_strength(self):\n",
    "\n",
    "    pass\n",
    "\n",
    "strength_data = ConcreteStrength([25.4, 26.1, 24.8, 25.9, 26.3])\n"
   ]
  },
  {
   "cell_type": "markdown",
   "metadata": {
    "id": "Nj5DoHFojHBc"
   },
   "source": [
    "Example 4 – Class: GridElevation\n",
    "\n",
    "Question:\n",
    "Write a class GridElevation representing a 2D grid of elevations.\n",
    "It should have:\n",
    "\n",
    "elevations (NumPy 2D array)\n",
    "\n",
    "max_elevation() method\n",
    "\n",
    "min_elevation() method\n",
    "\n",
    "profile(row) method returning one row’s elevation profile as a 1D NumPy array"
   ]
  },
  {
   "cell_type": "code",
   "execution_count": null,
   "metadata": {
    "id": "LIRJEjjojKlj"
   },
   "outputs": [],
   "source": [
    "import numpy as np\n",
    "\n",
    "class GridElevation:\n",
    "  def __init__(self, elevations):\n",
    "\n",
    "    pass\n",
    "\n",
    "  def max_elevation(self):\n",
    "\n",
    "    pass\n",
    "\n",
    "  def min_elevation(self):\n",
    "\n",
    "    pass\n",
    "\n",
    "  def profile(self, row):\n",
    "\n",
    "    pass\n",
    "\n",
    "grid = GridElevation([[5.2,5.4,5.3],\n",
    "                      [5.1,5.3,5.5],\n",
    "                      [5.0,5.2,5.4]])\n"
   ]
  },
  {
   "cell_type": "markdown",
   "metadata": {
    "id": "sYrSqUq0mfbP"
   },
   "source": [
    "FitnessTracker Exercises\n",
    "\n",
    "You are given 7 days of step counts for 3 people (rows = days, columns = people):\n",
    "\n",
    "Create a class called FitnessTracker that:\n",
    "\n",
    "Accepts the step data as a NumPy array.\n",
    "\n",
    "Optionally accepts a list of names for the people.\n",
    "\n",
    "Stores the data as an attribute.\n",
    "\n",
    "Add the following methods to your class:\n",
    "\n",
    "total_steps_per_person() → Returns total steps for each person.\n",
    "\n",
    "total_steps_per_day() → Returns total steps for each day.\n",
    "\n",
    "average_per_person() → Returns average steps per person.\n",
    "\n",
    "best_day_overall() → Returns the day (1-based) with the highest average steps across all people.\n",
    "\n",
    "person_max_on_day(day_index) → Returns the person who walked the most on a given day (0-based index).\n",
    "\n",
    "days_over_threshold(threshold) → Returns the number of days each person exceeded a given threshold.\n",
    "\n",
    "percent_change_day(day1, day2) → Returns the percentage change in steps from day1 to day2 for each person.\n",
    "\n",
    "Add a method normalize_per_person() that:\n",
    "\n",
    "Returns a Min-Max normalized array per person.\n",
    "\n",
    "For each person (column), scale their steps to the range [0, 1] using:\n",
    "\n",
    "Min-Max normalization: $x_{\\text{norm}} = \\frac{x - x_{\\min}}{x_{\\max} - x_{\\min}}$\n",
    "\n",
    "Each column should be normalized independently based on that person’s min and max steps."
   ]
  },
  {
   "cell_type": "code",
   "execution_count": 6,
   "metadata": {
    "colab": {
     "base_uri": "https://localhost:8080/"
    },
    "id": "VkYzuMSHm5V1",
    "outputId": "b868eb78-9eda-4871-b214-e5bb1d5ec00c",
    "scrolled": true
   },
   "outputs": [
    {
     "name": "stdout",
     "output_type": "stream",
     "text": [
      "Total steps per person: None\n",
      "Total steps per day: None\n",
      "Average per person: None\n",
      "Best day overall (highest avg): None\n",
      "Who walked the most on Day 5? None\n",
      "Days each person >10k: None\n",
      "Percent change Day 1→Day 7: None\n",
      "Min-Max Normalized steps:\n",
      " None\n"
     ]
    }
   ],
   "source": [
    "import numpy as np\n",
    "\n",
    "class FitnessTracker:\n",
    "  def __init__(self, steps, names=None):\n",
    "    pass\n",
    "    self.steps = np.array(steps)\n",
    "\n",
    "  def total_steps_per_person(self):\n",
    "    pass\n",
    "\n",
    "  def total_steps_per_day(self):\n",
    "    pass\n",
    "\n",
    "  def average_per_person(self):\n",
    "    pass\n",
    "\n",
    "  def best_day_overall(self):\n",
    "    pass\n",
    "\n",
    "  def person_max_on_day(self, day_index):\n",
    "    pass\n",
    "\n",
    "  def days_over_threshold(self, threshold=10000):\n",
    "    pass\n",
    "\n",
    "  def percent_change_day(self, day1, day2):\n",
    "    pass\n",
    "\n",
    "\n",
    "  def minmax_normalize_per_person(self):\n",
    "    pass\n",
    "\n",
    "steps = np.array([[8000, 10000, 9500],\n",
    "                  [9000, 11000, 8700],\n",
    "                  [7500,  9800, 10200],\n",
    "                  [8200, 10500, 9700],\n",
    "                  [8800, 11500, 9400],\n",
    "                  [9100, 10800, 10100],\n",
    "                  [8500,  9900, 9800]])\n",
    "\n",
    "tracker = FitnessTracker(steps, names=['Alice', 'Bob', 'Charlie'])\n",
    "\n",
    "print(\"Total steps per person:\", tracker.total_steps_per_person())\n",
    "print(\"Total steps per day:\", tracker.total_steps_per_day())\n",
    "print(\"Average per person:\", tracker.average_per_person())\n",
    "print(\"Best day overall (highest avg):\", tracker.best_day_overall())\n",
    "print(\"Who walked the most on Day 5?\", tracker.person_max_on_day(4))\n",
    "print(\"Days each person >10k:\", tracker.days_over_threshold(10000))\n",
    "print(\"Percent change Day 1→Day 7:\", tracker.percent_change_day(0,6))\n",
    "print(\"Min-Max Normalized steps:\\n\", tracker.minmax_normalize_per_person())\n"
   ]
  },
  {
   "cell_type": "code",
   "execution_count": null,
   "metadata": {
    "id": "aA7EqAoao0i7"
   },
   "outputs": [],
   "source": []
  }
 ],
 "metadata": {
  "colab": {
   "provenance": []
  },
  "kernelspec": {
   "display_name": "Python 3",
   "language": "python",
   "name": "python3"
  },
  "language_info": {
   "codemirror_mode": {
    "name": "ipython",
    "version": 3
   },
   "file_extension": ".py",
   "mimetype": "text/x-python",
   "name": "python",
   "nbconvert_exporter": "python",
   "pygments_lexer": "ipython3",
   "version": "3.8.5"
  }
 },
 "nbformat": 4,
 "nbformat_minor": 1
}
