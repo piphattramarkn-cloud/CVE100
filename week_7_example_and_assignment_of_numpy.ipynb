{
 "cells": [
  {
   "cell_type": "markdown",
   "metadata": {
    "id": "RoQjeM-utYJ-"
   },
   "source": [
    "Import Car class from car.py\n",
    "\n",
    "define car1 with Car('Toyota',1000)\n",
    "\n",
    "run the method like display(), rent(), return_car()"
   ]
  },
  {
   "cell_type": "code",
   "execution_count": 4,
   "metadata": {
    "id": "REl1jgxOu9Mi"
   },
   "outputs": [
    {
     "name": "stdout",
     "output_type": "stream",
     "text": [
      "Model: Toyota\n",
      "Rent per day: ฿1000\n",
      "Availability: Available\n",
      "Car rented. Total cost = ฿1000\n",
      "Car returned\n"
     ]
    }
   ],
   "source": [
    "from car import Car\n",
    "car1 = Car('Toyota',1000)\n",
    "car1.display()\n",
    "car1.rent(1)\n",
    "car1.return_car()"
   ]
  },
  {
   "cell_type": "code",
   "execution_count": 12,
   "metadata": {},
   "outputs": [
    {
     "name": "stdout",
     "output_type": "stream",
     "text": [
      "Defaulting to user installation because normal site-packages is not writeable\n",
      "Collecting numpy\n",
      "  Downloading numpy-2.0.2-cp39-cp39-macosx_14_0_arm64.whl (5.3 MB)\n",
      "\u001b[K     |████████████████████████████████| 5.3 MB 7.2 MB/s eta 0:00:01\n",
      "\u001b[?25hInstalling collected packages: numpy\n",
      "Successfully installed numpy-2.0.2\n",
      "\u001b[33mWARNING: You are using pip version 21.2.4; however, version 25.2 is available.\n",
      "You should consider upgrading via the '/Library/Developer/CommandLineTools/usr/bin/python3 -m pip install --upgrade pip' command.\u001b[0m\n",
      "Note: you may need to restart the kernel to use updated packages.\n"
     ]
    }
   ],
   "source": [
    "pip install numpy"
   ]
  },
  {
   "cell_type": "markdown",
   "metadata": {
    "id": "nvtQU52Kh2-P"
   },
   "source": [
    "Example 1 – Function: Compute Average Load on a Beam\n",
    "Write a Python function average_load(loads) that receives a NumPy array of loads (kN) on different sections of a beam and returns the average load.\n",
    "\n",
    "[12.5, 13.0, 12.0, 11.5, 12.8]"
   ]
  },
  {
   "cell_type": "code",
   "execution_count": 13,
   "metadata": {
    "id": "05gzTY5FiACc"
   },
   "outputs": [
    {
     "name": "stdout",
     "output_type": "stream",
     "text": [
      "Average load = 12.36 kN\n"
     ]
    }
   ],
   "source": [
    "import numpy as np\n",
    "\n",
    "def average_load(loads):\n",
    "\n",
    "   pass\n",
    "\n",
    "beam_loads = np.array([12.5, 13.0, 12.0, 11.5, 12.8])\n",
    "\n",
    "\n",
    "\n",
    "import numpy as np\n",
    "loads = np.array([12.5,13.0,12.0,11.5,12.8])\n",
    "average_load = np.mean(loads)\n",
    "print('Average load =', average_load, 'kN')\n",
    "\n",
    "import numpy as np\n",
    "\n",
    "def average_load(loads):\n",
    "    \n",
    "    return np.mean(loads)"
   ]
  },
  {
   "cell_type": "code",
   "execution_count": 14,
   "metadata": {},
   "outputs": [
    {
     "name": "stdout",
     "output_type": "stream",
     "text": [
      "Average load = 12.36 kN\n"
     ]
    }
   ],
   "source": [
    "import numpy as np\n",
    "\n",
    "def average_load(loads):\n",
    "    \n",
    "    pass\n",
    "\n",
    "beam_loads = np.array([12.5,13.0,12.0,11.5,12.8])\n",
    "import numpy as np\n",
    "average_load = np.mean(beam_loads)\n",
    "print('Average load =', average_load, 'kN')\n"
   ]
  },
  {
   "cell_type": "markdown",
   "metadata": {
    "id": "aFUa3zvkif6E"
   },
   "source": [
    "Example 2 – Function: Create a Diagonal Stiffness Matrix\n",
    "\n",
    "Question:\n",
    "Write a function stiffness_matrix(values) that takes a 1D NumPy array of stiffness values and returns a diagonal matrix with those values on the diagonal."
   ]
  },
  {
   "cell_type": "code",
   "execution_count": 15,
   "metadata": {},
   "outputs": [
    {
     "name": "stdout",
     "output_type": "stream",
     "text": [
      "[[10  0  0]\n",
      " [ 0 20  0]\n",
      " [ 0  0 30]]\n"
     ]
    }
   ],
   "source": [
    "import numpy as np\n",
    "\n",
    "def stiffness_matrix(values):\n",
    "    return np.diag(values)\n",
    "\n",
    "stiffness_values = np.array([10, 20, 30])\n",
    "diagonal_matrix = stiffness_matrix(stiffness_values)\n",
    "print(diagonal_matrix)\n"
   ]
  },
  {
   "cell_type": "markdown",
   "metadata": {
    "id": "ik1wvH1aixvM"
   },
   "source": [
    "Example 3 – Class: ConcreteStrength\n",
    "\n",
    "Question:\n",
    "Create a class ConcreteStrength to store compressive strength test data.\n",
    "\n",
    "The class should have:\n",
    "\n",
    "an attribute samples (NumPy array of strengths)\n",
    "\n",
    "a method mean_strength() returning the mean\n",
    "\n",
    "a method std_strength() returning the standard deviation"
   ]
  },
  {
   "cell_type": "code",
   "execution_count": 18,
   "metadata": {
    "id": "sOeiEdM-iw8Y"
   },
   "outputs": [
    {
     "name": "stdout",
     "output_type": "stream",
     "text": [
      "<bound method ConcreteStrength.mean_strength of <__main__.ConcreteStrength object at 0x1203e37f0>>\n",
      "0.540370243444252\n"
     ]
    }
   ],
   "source": [
    "import numpy as np\n",
    "\n",
    "class ConcreteStrength:\n",
    "  def __init__(self, samples):\n",
    "\n",
    "    self.samples = np.array(samples)\n",
    "\n",
    "  def mean_strength(self):\n",
    "\n",
    "    return np.mean(self.samples)\n",
    "\n",
    "  def std_strength(self):\n",
    "\n",
    "    return np.std(self.samples)\n",
    "\n",
    "strength_data = ConcreteStrength([25.4, 26.1, 24.8, 25.9, 26.3])\n",
    "mean_value = strength_data.mean_strength\n",
    "print(mean_value)\n",
    "std_value = strength_data.std_strength()\n",
    "print(std_value)\n"
   ]
  },
  {
   "cell_type": "markdown",
   "metadata": {
    "id": "Nj5DoHFojHBc"
   },
   "source": [
    "Example 4 – Class: GridElevation\n",
    "\n",
    "Question:\n",
    "Write a class GridElevation representing a 2D grid of elevations.\n",
    "It should have:\n",
    "\n",
    "elevations (NumPy 2D array)\n",
    "\n",
    "max_elevation() method\n",
    "\n",
    "min_elevation() method\n",
    "\n",
    "profile(row) method returning one row’s elevation profile as a 1D NumPy array"
   ]
  },
  {
   "cell_type": "code",
   "execution_count": 37,
   "metadata": {},
   "outputs": [
    {
     "name": "stdout",
     "output_type": "stream",
     "text": [
      "zsh:1: command not found: pip\n"
     ]
    }
   ],
   "source": [
    "!pip install numpy"
   ]
  },
  {
   "cell_type": "code",
   "execution_count": 35,
   "metadata": {
    "id": "LIRJEjjojKlj"
   },
   "outputs": [
    {
     "ename": "TypeError",
     "evalue": "'numpy.ndarray' object is not callable",
     "output_type": "error",
     "traceback": [
      "\u001b[0;31m---------------------------------------------------------------------------\u001b[0m",
      "\u001b[0;31mTypeError\u001b[0m                                 Traceback (most recent call last)",
      "Cell \u001b[0;32mIn[35], line 19\u001b[0m\n\u001b[1;32m     14\u001b[0m     \u001b[38;5;28;01mreturn\u001b[39;00m \u001b[38;5;28mself\u001b[39m\u001b[38;5;241m.\u001b[39melevation[row]\n\u001b[1;32m     16\u001b[0m grid \u001b[38;5;241m=\u001b[39m GridElevation([[\u001b[38;5;241m5.2\u001b[39m,\u001b[38;5;241m5.4\u001b[39m,\u001b[38;5;241m5.3\u001b[39m],\n\u001b[1;32m     17\u001b[0m                       [\u001b[38;5;241m5.1\u001b[39m,\u001b[38;5;241m5.3\u001b[39m,\u001b[38;5;241m5.5\u001b[39m],\n\u001b[1;32m     18\u001b[0m                       [\u001b[38;5;241m5.0\u001b[39m,\u001b[38;5;241m5.2\u001b[39m,\u001b[38;5;241m5.4\u001b[39m]])\n\u001b[0;32m---> 19\u001b[0m \u001b[38;5;28mprint\u001b[39m(\u001b[38;5;124m\"\u001b[39m\u001b[38;5;124mmax elevation :\u001b[39m\u001b[38;5;124m\"\u001b[39m,\u001b[43mgrid\u001b[49m\u001b[38;5;241;43m.\u001b[39;49m\u001b[43mmax_elevation\u001b[49m\u001b[43m(\u001b[49m\u001b[43m)\u001b[49m)\n\u001b[1;32m     20\u001b[0m \u001b[38;5;28mprint\u001b[39m(\u001b[38;5;124m\"\u001b[39m\u001b[38;5;124mmin elevation :\u001b[39m\u001b[38;5;124m\"\u001b[39m,grid\u001b[38;5;241m.\u001b[39mmin_elevation())\n\u001b[1;32m     21\u001b[0m \u001b[38;5;28mprint\u001b[39m(\u001b[38;5;124m\"\u001b[39m\u001b[38;5;124melavation profile at row 1 :\u001b[39m\u001b[38;5;124m\"\u001b[39m, grid\u001b[38;5;241m.\u001b[39mprofile(\u001b[38;5;241m1\u001b[39m))\n",
      "\u001b[0;31mTypeError\u001b[0m: 'numpy.ndarray' object is not callable"
     ]
    }
   ],
   "source": [
    "import numpy as np\n",
    "\n",
    "class GridElevation:\n",
    "  def __init__(self, elevations):\n",
    "    self.max_elevation = np.array(elevations)\n",
    "\n",
    "  def max_elevation(self):\n",
    "    return np.max(self.elevations)\n",
    "\n",
    "  def min_elevation(self):\n",
    "    return np.min(self.elevation)\n",
    "\n",
    "  def profile(self, row):\n",
    "    return self.elevation[row]\n",
    "\n",
    "grid = GridElevation([[5.2,5.4,5.3],\n",
    "                      [5.1,5.3,5.5],\n",
    "                      [5.0,5.2,5.4]])\n",
    "print(\"max elevation :\",grid.max_elevation())\n",
    "print(\"min elevation :\",grid.min_elevation())\n",
    "print(\"elavation profile at row 1 :\", grid.profile(1))\n"
   ]
  },
  {
   "cell_type": "markdown",
   "metadata": {
    "id": "sYrSqUq0mfbP"
   },
   "source": [
    "FitnessTracker Exercises\n",
    "\n",
    "You are given 7 days of step counts for 3 people (rows = days, columns = people):\n",
    "\n",
    "Create a class called FitnessTracker that:\n",
    "\n",
    "Accepts the step data as a NumPy array.\n",
    "\n",
    "Optionally accepts a list of names for the people.\n",
    "\n",
    "Stores the data as an attribute.\n",
    "\n",
    "Add the following methods to your class:\n",
    "\n",
    "total_steps_per_person() → Returns total steps for each person.\n",
    "\n",
    "total_steps_per_day() → Returns total steps for each day.\n",
    "\n",
    "average_per_person() → Returns average steps per person.\n",
    "\n",
    "best_day_overall() → Returns the day (1-based) with the highest average steps across all people.\n",
    "\n",
    "person_max_on_day(day_index) → Returns the person who walked the most on a given day (0-based index).\n",
    "\n",
    "days_over_threshold(threshold) → Returns the number of days each person exceeded a given threshold.\n",
    "\n",
    "percent_change_day(day1, day2) → Returns the percentage change in steps from day1 to day2 for each person.\n",
    "\n",
    "Add a method normalize_per_person() that:\n",
    "\n",
    "Returns a Min-Max normalized array per person.\n",
    "\n",
    "For each person (column), scale their steps to the range [0, 1] using:\n",
    "\n",
    "Min-Max normalization: $x_{\\text{norm}} = \\frac{x - x_{\\min}}{x_{\\max} - x_{\\min}}$\n",
    "\n",
    "Each column should be normalized independently based on that person’s min and max steps."
   ]
  },
  {
   "cell_type": "code",
   "execution_count": 34,
   "metadata": {
    "colab": {
     "base_uri": "https://localhost:8080/"
    },
    "id": "VkYzuMSHm5V1",
    "outputId": "b868eb78-9eda-4871-b214-e5bb1d5ec00c",
    "scrolled": true
   },
   "outputs": [
    {
     "name": "stdout",
     "output_type": "stream",
     "text": [
      "Total steps per person: [59100 73500 67400]\n",
      "Total steps per day: [27500 28700 27500 28400 29700 30000 28200]\n",
      "Average per person: [ 8442.85714286 10500.          9628.57142857]\n",
      "Best day overall (highest avg): 6\n",
      "Who walked the most on Day 5? Bob\n",
      "Days each person >10k: [0 4 2]\n"
     ]
    },
    {
     "ename": "TypeError",
     "evalue": "unsupported operand type(s) for /: 'int' and 'FitnessTracker'",
     "output_type": "error",
     "traceback": [
      "\u001b[0;31m---------------------------------------------------------------------------\u001b[0m",
      "\u001b[0;31mTypeError\u001b[0m                                 Traceback (most recent call last)",
      "Cell \u001b[0;32mIn[34], line 56\u001b[0m\n\u001b[1;32m     54\u001b[0m \u001b[38;5;28mprint\u001b[39m(\u001b[38;5;124m\"\u001b[39m\u001b[38;5;124mWho walked the most on Day 5?\u001b[39m\u001b[38;5;124m\"\u001b[39m, tracker\u001b[38;5;241m.\u001b[39mperson_max_on_day(\u001b[38;5;241m4\u001b[39m))\n\u001b[1;32m     55\u001b[0m \u001b[38;5;28mprint\u001b[39m(\u001b[38;5;124m\"\u001b[39m\u001b[38;5;124mDays each person >10k:\u001b[39m\u001b[38;5;124m\"\u001b[39m, tracker\u001b[38;5;241m.\u001b[39mdays_over_threshold(\u001b[38;5;241m10000\u001b[39m))\n\u001b[0;32m---> 56\u001b[0m \u001b[38;5;28mprint\u001b[39m(\u001b[38;5;124m\"\u001b[39m\u001b[38;5;124mPercent change Day 1→Day 7:\u001b[39m\u001b[38;5;124m\"\u001b[39m, \u001b[43mtracker\u001b[49m\u001b[38;5;241;43m.\u001b[39;49m\u001b[43mpercent_change_day\u001b[49m\u001b[43m(\u001b[49m\u001b[38;5;241;43m0\u001b[39;49m\u001b[43m,\u001b[49m\u001b[38;5;241;43m6\u001b[39;49m\u001b[43m)\u001b[49m)\n\u001b[1;32m     57\u001b[0m \u001b[38;5;28mprint\u001b[39m(\u001b[38;5;124m\"\u001b[39m\u001b[38;5;124mMin-Max Normalized steps:\u001b[39m\u001b[38;5;130;01m\\n\u001b[39;00m\u001b[38;5;124m\"\u001b[39m, tracker\u001b[38;5;241m.\u001b[39mminmax_normalize_per_person())\n",
      "Cell \u001b[0;32mIn[34], line 31\u001b[0m, in \u001b[0;36mFitnessTracker.percent_change_day\u001b[0;34m(self, day1, day2)\u001b[0m\n\u001b[1;32m     30\u001b[0m \u001b[38;5;28;01mdef\u001b[39;00m\u001b[38;5;250m \u001b[39m\u001b[38;5;21mpercent_change_day\u001b[39m(\u001b[38;5;28mself\u001b[39m, day1, day2):\n\u001b[0;32m---> 31\u001b[0m   \u001b[38;5;28;01mreturn\u001b[39;00m \u001b[43m(\u001b[49m\u001b[38;5;28;43mself\u001b[39;49m\u001b[38;5;241;43m.\u001b[39;49m\u001b[43msteps\u001b[49m\u001b[43m[\u001b[49m\u001b[43mday2\u001b[49m\u001b[43m,\u001b[49m\u001b[43m \u001b[49m\u001b[43m:\u001b[49m\u001b[43m]\u001b[49m\u001b[43m \u001b[49m\u001b[38;5;241;43m-\u001b[39;49m\u001b[43m \u001b[49m\u001b[38;5;28;43mself\u001b[39;49m\u001b[38;5;241;43m.\u001b[39;49m\u001b[43msteps\u001b[49m\u001b[43m[\u001b[49m\u001b[43mday1\u001b[49m\u001b[43m,\u001b[49m\u001b[43m:\u001b[49m\u001b[43m]\u001b[49m\u001b[43m)\u001b[49m\u001b[43m \u001b[49m\u001b[38;5;241;43m/\u001b[39;49m\u001b[43m \u001b[49m\u001b[38;5;28;43mself\u001b[39;49m,steps[day1,:]\u001b[38;5;241m*\u001b[39m\u001b[38;5;241m100\u001b[39m\n",
      "\u001b[0;31mTypeError\u001b[0m: unsupported operand type(s) for /: 'int' and 'FitnessTracker'"
     ]
    }
   ],
   "source": [
    "import numpy as np\n",
    "\n",
    "class FitnessTracker:\n",
    "  def __init__(self, steps, names=None):\n",
    "    \n",
    "    self.steps = np.array(steps)\n",
    "    self.days, self.peple = self.steps.shape\n",
    "    self.name = names\n",
    "\n",
    "  def total_steps_per_person(self):\n",
    "    return np.sum(self.steps,axis=0)\n",
    "\n",
    "  def total_steps_per_day(self):\n",
    "    return np.sum(self.steps,axis=1)\n",
    "\n",
    "  def average_per_person(self):\n",
    "    return np.mean(self.steps,axis=0)\n",
    "\n",
    "  def best_day_overall(self):\n",
    "    daymax = (np.mean(self.steps,axis=1))\n",
    "    return np.argmax(daymax)+1\n",
    "\n",
    "  def person_max_on_day(self, day_index):\n",
    "    index = np.argmax(self.steps[day_index, :])\n",
    "    return self.name[index]\n",
    "\n",
    "  def days_over_threshold(self, threshold=10000):\n",
    "    return np.sum(self.steps> threshold, axis=0)\n",
    "\n",
    "  def percent_change_day(self, day1, day2):\n",
    "    return (self.steps[day2, :] - self.steps[day1,:]) / self,steps[day1,:]*100\n",
    "\n",
    "\n",
    "  def minmax_normalize_per_person(self):\n",
    "    min_values = np.min(self.steps,  axis=0)\n",
    "    max_values = np.max(self.steps,  axis=0)\n",
    "    normalized = (self.steps - min_values) / (max_values - min_values)\n",
    "\n",
    "\n",
    "steps = np.array([[8000, 10000, 9500],\n",
    "                  [9000, 11000, 8700],\n",
    "                  [7500,  9800, 10200],\n",
    "                  [8200, 10500, 9700],\n",
    "                  [8800, 11500, 9400],\n",
    "                  [9100, 10800, 10100],\n",
    "                  [8500,  9900, 9800]])\n",
    "\n",
    "tracker = FitnessTracker(steps, names=['Alice', 'Bob', 'Charlie'])\n",
    "\n",
    "print(\"Total steps per person:\", tracker.total_steps_per_person())\n",
    "print(\"Total steps per day:\", tracker.total_steps_per_day())\n",
    "print(\"Average per person:\", tracker.average_per_person())\n",
    "print(\"Best day overall (highest avg):\", tracker.best_day_overall())\n",
    "print(\"Who walked the most on Day 5?\", tracker.person_max_on_day(4))\n",
    "print(\"Days each person >10k:\", tracker.days_over_threshold(10000))\n",
    "print(\"Percent change Day 1→Day 7:\", tracker.percent_change_day(0,6))\n",
    "print(\"Min-Max Normalized steps:\\n\", tracker.minmax_normalize_per_person())\n"
   ]
  },
  {
   "cell_type": "code",
   "execution_count": null,
   "metadata": {
    "id": "aA7EqAoao0i7"
   },
   "outputs": [],
   "source": []
  }
 ],
 "metadata": {
  "colab": {
   "provenance": []
  },
  "kernelspec": {
   "display_name": "Python 3",
   "language": "python",
   "name": "python3"
  },
  "language_info": {
   "codemirror_mode": {
    "name": "ipython",
    "version": 3
   },
   "file_extension": ".py",
   "mimetype": "text/x-python",
   "name": "python",
   "nbconvert_exporter": "python",
   "pygments_lexer": "ipython3",
   "version": "3.9.6"
  }
 },
 "nbformat": 4,
 "nbformat_minor": 1
}
