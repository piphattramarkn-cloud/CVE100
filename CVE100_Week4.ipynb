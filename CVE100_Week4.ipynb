{
  "cells": [
    {
      "cell_type": "code",
      "execution_count": null,
      "metadata": {},
      "outputs": [],
      "source": [
        "#Even and odd\n",
        "iterate for loop from number 1 to n:\n",
        "if the number is even, print \"[number] is even\"\n",
        "otherwise, print \"[number] is odd\":\n",
        "\n",
        "if n = 5 ==> expected clear_output\n",
        "0 is even \n",
        "1 is odd\n",
        "2 is even \n",
        "3 is odd \n",
        "4 is even "
      ]
    },
    {
      "cell_type": "code",
      "execution_count": null,
      "metadata": {},
      "outputs": [
        {
          "name": "stdout",
          "output_type": "stream",
          "text": [
            "1 is odd\n",
            "2 is even\n",
            "3 is odd\n",
            "4 is even\n",
            "5 is odd\n",
            "6 is even\n",
            "7 is odd\n",
            "8 is even\n",
            "9 is odd\n"
          ]
        }
      ],
      "source": [
        "n = 10\n",
        "for i in range(1,n):\n",
        "    if i%2==0:\n",
        "        print(i, \"is even\")\n",
        "    else:\n",
        "        print(i, \"is odd\")"
      ]
    },
    {
      "cell_type": "code",
      "execution_count": null,
      "metadata": {},
      "outputs": [
        {
          "name": "stdout",
          "output_type": "stream",
          "text": [
            "The result is large\n",
            "The result is large\n",
            "The result is large\n",
            "The result is large\n",
            "The result is large\n",
            "The result is large\n",
            "The result is large\n",
            "The result is large\n",
            "The result is large\n",
            "The result is large\n",
            "The result is large\n",
            "The result is large\n",
            "The result is large\n",
            "The result is large\n"
          ]
        }
      ],
      "source": [
        "n = 100\n",
        "for i in range(1,13):\n",
        "    if n/i>5:\n",
        "        print(\"The result is large\")\n",
        "    elif  n/i==6 :\n",
        "        continue\n",
        "    else :\n",
        "        print(\"Quotient is \", n/i )"
      ]
    },
    {
      "cell_type": "code",
      "execution_count": null,
      "metadata": {},
      "outputs": [],
      "source": [
        "credentials = {'user1' : 'abc123', 'admin': 'adminpass', 'guest': 'guest123'}\n",
        "username = input(\"Enter username\")\n",
        "password = input(\"Enter password\")\n"
      ]
    },
    {
      "cell_type": "code",
      "execution_count": null,
      "metadata": {},
      "outputs": [
        {
          "name": "stdout",
          "output_type": "stream",
          "text": [
            "Login successful\n"
          ]
        }
      ],
      "source": [
        "credentials = {'user1' : 'abc123', 'admin': 'adminpass', 'guest': 'guest123'}\n",
        "username = input(\"Enter username\")\n",
        "password = input(\"Enter password\")\n",
        "if username in credentials :\n",
        "    if credentials[username] == password:\n",
        "       print(\"Login successful\")\n",
        "    else :\n",
        "        print(\"Incorrect password\")\n",
        "else :\n",
        "    print (\"User not found\")"
      ]
    },
    {
      "cell_type": "code",
      "execution_count": null,
      "metadata": {},
      "outputs": [
        {
          "name": "stdout",
          "output_type": "stream",
          "text": [
            "* * * * * \n",
            "* * * * * \n",
            "* * * * * \n",
            "* * * * * \n",
            "* * * * * \n"
          ]
        }
      ],
      "source": [
        "stars = 5 \n",
        "rows = 5\n",
        "for i in range(1, rows+1):\n",
        "    for j in range(1, stars+1):\n",
        "        print(\"*\", end=\" \") \n",
        "    print() # Newline"
      ]
    },
    {
      "cell_type": "code",
      "execution_count": null,
      "metadata": {},
      "outputs": [
        {
          "name": "stdout",
          "output_type": "stream",
          "text": [
            "* \n",
            "* * \n",
            "* * * \n",
            "* * * * \n",
            "* * * * * \n"
          ]
        }
      ],
      "source": [
        "stars = 5  \n",
        "rows = 5\n",
        "for i in range(1, rows+1):\n",
        "    for j in range(i):\n",
        "        print(\"*\", end=\" \") \n",
        "    print() # Newline"
      ]
    },
    {
      "cell_type": "code",
      "execution_count": null,
      "metadata": {},
      "outputs": [
        {
          "name": "stdout",
          "output_type": "stream",
          "text": [
            "Add price again:  400.0\n",
            "Add price again:  800.0\n",
            "You cannot buy anymore\n"
          ]
        }
      ],
      "source": [
        "total_bill = 0 \n",
        "price=float(input(\"Enter your price: \"))\n",
        "total_bill+=price\n",
        "while total_bill<1000:\n",
        "    price=float(input(\"Enter your price: \"))\n",
        "    total_bill+=price\n",
        "    if total_bill>=1000:\n",
        "        print(\"You cannot buy anymore\")\n",
        "    else :\n",
        "        print(\"Add price again: \",total_bill)\n"
      ]
    },
    {
      "cell_type": "code",
      "execution_count": 46,
      "metadata": {},
      "outputs": [
        {
          "ename": "ValueError",
          "evalue": "could not convert string to float: ''",
          "output_type": "error",
          "traceback": [
            "\u001b[0;31m---------------------------------------------------------------------------\u001b[0m",
            "\u001b[0;31mValueError\u001b[0m                                Traceback (most recent call last)",
            "Cell \u001b[0;32mIn[46], line 5\u001b[0m\n\u001b[1;32m      3\u001b[0m total_bill\u001b[38;5;241m+\u001b[39m\u001b[38;5;241m=\u001b[39mprice\n\u001b[1;32m      4\u001b[0m \u001b[38;5;28;01mwhile\u001b[39;00m total_bill\u001b[38;5;241m<\u001b[39m\u001b[38;5;241m=\u001b[39m\u001b[38;5;241m1000\u001b[39m:\n\u001b[0;32m----> 5\u001b[0m     price\u001b[38;5;241m=\u001b[39m\u001b[38;5;28;43mfloat\u001b[39;49m\u001b[43m(\u001b[49m\u001b[38;5;28;43minput\u001b[39;49m\u001b[43m(\u001b[49m\u001b[38;5;124;43m\"\u001b[39;49m\u001b[38;5;124;43mEnter your price: \u001b[39;49m\u001b[38;5;124;43m\"\u001b[39;49m\u001b[43m)\u001b[49m\u001b[43m)\u001b[49m\n\u001b[1;32m      6\u001b[0m \u001b[38;5;28mprint\u001b[39m(\u001b[38;5;124m\"\u001b[39m\u001b[38;5;124mLimit reach, You cannot buy anymore\u001b[39m\u001b[38;5;124m\"\u001b[39m)\n",
            "\u001b[0;31mValueError\u001b[0m: could not convert string to float: ''"
          ]
        }
      ],
      "source": [
        "total_bill = 0 \n",
        "price=float(input(\"Enter your price: \"))\n",
        "total_bill+=price\n",
        "while total_bill<=1000:\n",
        "    price=float(input(\"Enter your price: \"))\n",
        "print(\"Limit reach, You cannot buy anymore\")"
      ]
    }
  ],
  "metadata": {
    "colab": {
      "provenance": []
    },
    "kernelspec": {
      "display_name": ".venv (3.9.6)",
      "language": "python",
      "name": "python3"
    },
    "language_info": {
      "codemirror_mode": {
        "name": "ipython",
        "version": 3
      },
      "file_extension": ".py",
      "mimetype": "text/x-python",
      "name": "python",
      "nbconvert_exporter": "python",
      "pygments_lexer": "ipython3",
      "version": "3.9.6"
    }
  },
  "nbformat": 4,
  "nbformat_minor": 0
}
